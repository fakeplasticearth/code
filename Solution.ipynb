{
 "cells": [
  {
   "cell_type": "code",
   "execution_count": 1,
   "metadata": {},
   "outputs": [],
   "source": [
    "import pandas as pd\n",
    "import numpy as np"
   ]
  },
  {
   "cell_type": "code",
   "execution_count": 310,
   "metadata": {},
   "outputs": [],
   "source": [
    "train = pd.read_csv('train.csv', sep = ';')"
   ]
  },
  {
   "cell_type": "code",
   "execution_count": 311,
   "metadata": {},
   "outputs": [
    {
     "data": {
      "text/html": [
       "<div>\n",
       "<style scoped>\n",
       "    .dataframe tbody tr th:only-of-type {\n",
       "        vertical-align: middle;\n",
       "    }\n",
       "\n",
       "    .dataframe tbody tr th {\n",
       "        vertical-align: top;\n",
       "    }\n",
       "\n",
       "    .dataframe thead th {\n",
       "        text-align: right;\n",
       "    }\n",
       "</style>\n",
       "<table border=\"1\" class=\"dataframe\">\n",
       "  <thead>\n",
       "    <tr style=\"text-align: right;\">\n",
       "      <th></th>\n",
       "      <th>id</th>\n",
       "      <th>position</th>\n",
       "      <th>region</th>\n",
       "      <th>industry</th>\n",
       "      <th>locality</th>\n",
       "      <th>locality_name</th>\n",
       "      <th>education_type</th>\n",
       "      <th>drive_licences</th>\n",
       "      <th>citizenship</th>\n",
       "      <th>schedule</th>\n",
       "      <th>...</th>\n",
       "      <th>relocation_ready</th>\n",
       "      <th>travel_ready</th>\n",
       "      <th>retraining_ready</th>\n",
       "      <th>is_worldskills_participant</th>\n",
       "      <th>has_qualifications</th>\n",
       "      <th>completeness_rate</th>\n",
       "      <th>creation_date</th>\n",
       "      <th>modification_date</th>\n",
       "      <th>publish_date</th>\n",
       "      <th>salary</th>\n",
       "    </tr>\n",
       "  </thead>\n",
       "  <tbody>\n",
       "    <tr>\n",
       "      <th>0</th>\n",
       "      <td>0</td>\n",
       "      <td>Специалист</td>\n",
       "      <td>Тульская область</td>\n",
       "      <td>Государственная служба, некоммерческие организ...</td>\n",
       "      <td>7100000100000</td>\n",
       "      <td>Тула</td>\n",
       "      <td>Незаконченное высшее</td>\n",
       "      <td>[B]</td>\n",
       "      <td>Российская Федерация</td>\n",
       "      <td>Полный рабочий день</td>\n",
       "      <td>...</td>\n",
       "      <td>False</td>\n",
       "      <td>False</td>\n",
       "      <td>True</td>\n",
       "      <td>NaN</td>\n",
       "      <td>NaN</td>\n",
       "      <td>64.0</td>\n",
       "      <td>2020-05-07</td>\n",
       "      <td>2020-05-08</td>\n",
       "      <td>2020-05-07</td>\n",
       "      <td>37500</td>\n",
       "    </tr>\n",
       "    <tr>\n",
       "      <th>1</th>\n",
       "      <td>1</td>\n",
       "      <td>Лаборант</td>\n",
       "      <td>Алтайский край</td>\n",
       "      <td>Государственная служба, некоммерческие организ...</td>\n",
       "      <td>2200000100000</td>\n",
       "      <td>Барнаул</td>\n",
       "      <td>Высшее</td>\n",
       "      <td>[B]</td>\n",
       "      <td>Российская Федерация</td>\n",
       "      <td>Полный рабочий день</td>\n",
       "      <td>...</td>\n",
       "      <td>False</td>\n",
       "      <td>True</td>\n",
       "      <td>True</td>\n",
       "      <td>NaN</td>\n",
       "      <td>NaN</td>\n",
       "      <td>88.0</td>\n",
       "      <td>2020-10-21</td>\n",
       "      <td>2020-10-27</td>\n",
       "      <td>2020-10-27</td>\n",
       "      <td>14000</td>\n",
       "    </tr>\n",
       "    <tr>\n",
       "      <th>2</th>\n",
       "      <td>3</td>\n",
       "      <td>Специалист, администратор, бухгалтер, экономист</td>\n",
       "      <td>Ульяновская область</td>\n",
       "      <td>Административная работа, секретариат, АХО</td>\n",
       "      <td>7300000200000</td>\n",
       "      <td>Димитровград</td>\n",
       "      <td>Высшее</td>\n",
       "      <td>[B]</td>\n",
       "      <td>Российская Федерация</td>\n",
       "      <td>Полный рабочий день</td>\n",
       "      <td>...</td>\n",
       "      <td>False</td>\n",
       "      <td>NaN</td>\n",
       "      <td>True</td>\n",
       "      <td>NaN</td>\n",
       "      <td>NaN</td>\n",
       "      <td>78.0</td>\n",
       "      <td>2019-04-25</td>\n",
       "      <td>2020-02-04</td>\n",
       "      <td>2020-02-04</td>\n",
       "      <td>24600</td>\n",
       "    </tr>\n",
       "    <tr>\n",
       "      <th>3</th>\n",
       "      <td>4</td>\n",
       "      <td>Специалист</td>\n",
       "      <td>Свердловская область</td>\n",
       "      <td>Государственная служба, некоммерческие организ...</td>\n",
       "      <td>6600002300000</td>\n",
       "      <td>Нижний Тагил</td>\n",
       "      <td>Высшее</td>\n",
       "      <td>[B]</td>\n",
       "      <td>Российская Федерация</td>\n",
       "      <td>Полный рабочий день</td>\n",
       "      <td>...</td>\n",
       "      <td>False</td>\n",
       "      <td>False</td>\n",
       "      <td>False</td>\n",
       "      <td>NaN</td>\n",
       "      <td>NaN</td>\n",
       "      <td>91.0</td>\n",
       "      <td>2020-09-19</td>\n",
       "      <td>2020-09-20</td>\n",
       "      <td>2020-09-19</td>\n",
       "      <td>16075</td>\n",
       "    </tr>\n",
       "    <tr>\n",
       "      <th>4</th>\n",
       "      <td>5</td>\n",
       "      <td>Инструктор по плаванию</td>\n",
       "      <td>Иркутская область</td>\n",
       "      <td>Здравоохранение, спорт, красота, социальное об...</td>\n",
       "      <td>3800000400000</td>\n",
       "      <td>Ангарск</td>\n",
       "      <td>NaN</td>\n",
       "      <td>NaN</td>\n",
       "      <td>Российская Федерация</td>\n",
       "      <td>Полный рабочий день</td>\n",
       "      <td>...</td>\n",
       "      <td>False</td>\n",
       "      <td>NaN</td>\n",
       "      <td>NaN</td>\n",
       "      <td>NaN</td>\n",
       "      <td>NaN</td>\n",
       "      <td>58.0</td>\n",
       "      <td>2020-04-20</td>\n",
       "      <td>2020-09-09</td>\n",
       "      <td>2020-04-21</td>\n",
       "      <td>22080</td>\n",
       "    </tr>\n",
       "  </tbody>\n",
       "</table>\n",
       "<p>5 rows × 25 columns</p>\n",
       "</div>"
      ],
      "text/plain": [
       "   id                                         position                region  \\\n",
       "0   0                                       Специалист      Тульская область   \n",
       "1   1                                         Лаборант        Алтайский край   \n",
       "2   3  Специалист, администратор, бухгалтер, экономист   Ульяновская область   \n",
       "3   4                                       Специалист  Свердловская область   \n",
       "4   5                           Инструктор по плаванию     Иркутская область   \n",
       "\n",
       "                                            industry       locality  \\\n",
       "0  Государственная служба, некоммерческие организ...  7100000100000   \n",
       "1  Государственная служба, некоммерческие организ...  2200000100000   \n",
       "2          Административная работа, секретариат, АХО  7300000200000   \n",
       "3  Государственная служба, некоммерческие организ...  6600002300000   \n",
       "4  Здравоохранение, спорт, красота, социальное об...  3800000400000   \n",
       "\n",
       "  locality_name        education_type drive_licences           citizenship  \\\n",
       "0          Тула  Незаконченное высшее            [B]  Российская Федерация   \n",
       "1       Барнаул                Высшее            [B]  Российская Федерация   \n",
       "2  Димитровград                Высшее            [B]  Российская Федерация   \n",
       "3  Нижний Тагил                Высшее            [B]  Российская Федерация   \n",
       "4       Ангарск                   NaN            NaN  Российская Федерация   \n",
       "\n",
       "              schedule  ... relocation_ready  travel_ready retraining_ready  \\\n",
       "0  Полный рабочий день  ...            False         False             True   \n",
       "1  Полный рабочий день  ...            False          True             True   \n",
       "2  Полный рабочий день  ...            False           NaN             True   \n",
       "3  Полный рабочий день  ...            False         False            False   \n",
       "4  Полный рабочий день  ...            False           NaN              NaN   \n",
       "\n",
       "   is_worldskills_participant  has_qualifications completeness_rate  \\\n",
       "0                         NaN                 NaN              64.0   \n",
       "1                         NaN                 NaN              88.0   \n",
       "2                         NaN                 NaN              78.0   \n",
       "3                         NaN                 NaN              91.0   \n",
       "4                         NaN                 NaN              58.0   \n",
       "\n",
       "  creation_date modification_date publish_date salary  \n",
       "0    2020-05-07        2020-05-08   2020-05-07  37500  \n",
       "1    2020-10-21        2020-10-27   2020-10-27  14000  \n",
       "2    2019-04-25        2020-02-04   2020-02-04  24600  \n",
       "3    2020-09-19        2020-09-20   2020-09-19  16075  \n",
       "4    2020-04-20        2020-09-09   2020-04-21  22080  \n",
       "\n",
       "[5 rows x 25 columns]"
      ]
     },
     "execution_count": 311,
     "metadata": {},
     "output_type": "execute_result"
    }
   ],
   "source": [
    "train.head()"
   ]
  },
  {
   "cell_type": "code",
   "execution_count": 312,
   "metadata": {},
   "outputs": [
    {
     "data": {
      "text/html": [
       "<div>\n",
       "<style scoped>\n",
       "    .dataframe tbody tr th:only-of-type {\n",
       "        vertical-align: middle;\n",
       "    }\n",
       "\n",
       "    .dataframe tbody tr th {\n",
       "        vertical-align: top;\n",
       "    }\n",
       "\n",
       "    .dataframe thead th {\n",
       "        text-align: right;\n",
       "    }\n",
       "</style>\n",
       "<table border=\"1\" class=\"dataframe\">\n",
       "  <thead>\n",
       "    <tr style=\"text-align: right;\">\n",
       "      <th></th>\n",
       "      <th>id</th>\n",
       "      <th>locality</th>\n",
       "      <th>age</th>\n",
       "      <th>experience</th>\n",
       "      <th>salary_desired</th>\n",
       "      <th>completeness_rate</th>\n",
       "      <th>salary</th>\n",
       "    </tr>\n",
       "  </thead>\n",
       "  <tbody>\n",
       "    <tr>\n",
       "      <th>count</th>\n",
       "      <td>306270.000000</td>\n",
       "      <td>3.062700e+05</td>\n",
       "      <td>298459.000000</td>\n",
       "      <td>306270.000000</td>\n",
       "      <td>3.062700e+05</td>\n",
       "      <td>306270.000000</td>\n",
       "      <td>3.062700e+05</td>\n",
       "    </tr>\n",
       "    <tr>\n",
       "      <th>mean</th>\n",
       "      <td>218700.540370</td>\n",
       "      <td>4.778910e+12</td>\n",
       "      <td>35.661344</td>\n",
       "      <td>5.748225</td>\n",
       "      <td>3.364235e+04</td>\n",
       "      <td>69.068528</td>\n",
       "      <td>4.094132e+04</td>\n",
       "    </tr>\n",
       "    <tr>\n",
       "      <th>std</th>\n",
       "      <td>126304.952581</td>\n",
       "      <td>2.352877e+12</td>\n",
       "      <td>12.616996</td>\n",
       "      <td>7.745237</td>\n",
       "      <td>2.272811e+04</td>\n",
       "      <td>17.125725</td>\n",
       "      <td>3.535889e+04</td>\n",
       "    </tr>\n",
       "    <tr>\n",
       "      <th>min</th>\n",
       "      <td>0.000000</td>\n",
       "      <td>0.000000e+00</td>\n",
       "      <td>2.000000</td>\n",
       "      <td>0.000000</td>\n",
       "      <td>-8.304000e+04</td>\n",
       "      <td>0.000000</td>\n",
       "      <td>0.000000e+00</td>\n",
       "    </tr>\n",
       "    <tr>\n",
       "      <th>25%</th>\n",
       "      <td>109335.250000</td>\n",
       "      <td>2.400002e+12</td>\n",
       "      <td>28.000000</td>\n",
       "      <td>0.000000</td>\n",
       "      <td>2.000000e+04</td>\n",
       "      <td>61.000000</td>\n",
       "      <td>2.162300e+04</td>\n",
       "    </tr>\n",
       "    <tr>\n",
       "      <th>50%</th>\n",
       "      <td>218685.500000</td>\n",
       "      <td>5.200000e+12</td>\n",
       "      <td>34.000000</td>\n",
       "      <td>3.000000</td>\n",
       "      <td>3.000000e+04</td>\n",
       "      <td>71.000000</td>\n",
       "      <td>3.091200e+04</td>\n",
       "    </tr>\n",
       "    <tr>\n",
       "      <th>75%</th>\n",
       "      <td>328055.750000</td>\n",
       "      <td>6.600002e+12</td>\n",
       "      <td>42.000000</td>\n",
       "      <td>9.000000</td>\n",
       "      <td>4.000000e+04</td>\n",
       "      <td>81.000000</td>\n",
       "      <td>4.750000e+04</td>\n",
       "    </tr>\n",
       "    <tr>\n",
       "      <th>max</th>\n",
       "      <td>437525.000000</td>\n",
       "      <td>9.900000e+12</td>\n",
       "      <td>1936.000000</td>\n",
       "      <td>937.000000</td>\n",
       "      <td>1.069556e+06</td>\n",
       "      <td>100.000000</td>\n",
       "      <td>2.283641e+06</td>\n",
       "    </tr>\n",
       "  </tbody>\n",
       "</table>\n",
       "</div>"
      ],
      "text/plain": [
       "                  id      locality            age     experience  \\\n",
       "count  306270.000000  3.062700e+05  298459.000000  306270.000000   \n",
       "mean   218700.540370  4.778910e+12      35.661344       5.748225   \n",
       "std    126304.952581  2.352877e+12      12.616996       7.745237   \n",
       "min         0.000000  0.000000e+00       2.000000       0.000000   \n",
       "25%    109335.250000  2.400002e+12      28.000000       0.000000   \n",
       "50%    218685.500000  5.200000e+12      34.000000       3.000000   \n",
       "75%    328055.750000  6.600002e+12      42.000000       9.000000   \n",
       "max    437525.000000  9.900000e+12    1936.000000     937.000000   \n",
       "\n",
       "       salary_desired  completeness_rate        salary  \n",
       "count    3.062700e+05      306270.000000  3.062700e+05  \n",
       "mean     3.364235e+04          69.068528  4.094132e+04  \n",
       "std      2.272811e+04          17.125725  3.535889e+04  \n",
       "min     -8.304000e+04           0.000000  0.000000e+00  \n",
       "25%      2.000000e+04          61.000000  2.162300e+04  \n",
       "50%      3.000000e+04          71.000000  3.091200e+04  \n",
       "75%      4.000000e+04          81.000000  4.750000e+04  \n",
       "max      1.069556e+06         100.000000  2.283641e+06  "
      ]
     },
     "execution_count": 312,
     "metadata": {},
     "output_type": "execute_result"
    }
   ],
   "source": [
    "train.describe()"
   ]
  },
  {
   "cell_type": "code",
   "execution_count": 313,
   "metadata": {},
   "outputs": [
    {
     "data": {
      "text/plain": [
       "306270"
      ]
     },
     "execution_count": 313,
     "metadata": {},
     "output_type": "execute_result"
    }
   ],
   "source": [
    "len(train)"
   ]
  },
  {
   "cell_type": "code",
   "execution_count": 314,
   "metadata": {},
   "outputs": [
    {
     "name": "stdout",
     "output_type": "stream",
     "text": [
      "<class 'pandas.core.frame.DataFrame'>\n",
      "RangeIndex: 306270 entries, 0 to 306269\n",
      "Data columns (total 25 columns):\n",
      "id                            306270 non-null int64\n",
      "position                      306270 non-null object\n",
      "region                        306258 non-null object\n",
      "industry                      306270 non-null object\n",
      "locality                      306270 non-null int64\n",
      "locality_name                 290778 non-null object\n",
      "education_type                266238 non-null object\n",
      "drive_licences                121925 non-null object\n",
      "citizenship                   306270 non-null object\n",
      "schedule                      306270 non-null object\n",
      "employement_type              306270 non-null object\n",
      "age                           298459 non-null float64\n",
      "gender                        298497 non-null object\n",
      "experience                    306270 non-null int64\n",
      "salary_desired                306270 non-null int64\n",
      "relocation_ready              233567 non-null object\n",
      "travel_ready                  237054 non-null object\n",
      "retraining_ready              249144 non-null object\n",
      "is_worldskills_participant    194 non-null object\n",
      "has_qualifications            2534 non-null object\n",
      "completeness_rate             306270 non-null float64\n",
      "creation_date                 306263 non-null object\n",
      "modification_date             306263 non-null object\n",
      "publish_date                  306270 non-null object\n",
      "salary                        306270 non-null int64\n",
      "dtypes: float64(2), int64(5), object(18)\n",
      "memory usage: 58.4+ MB\n"
     ]
    }
   ],
   "source": [
    "train.info()"
   ]
  },
  {
   "cell_type": "code",
   "execution_count": 315,
   "metadata": {},
   "outputs": [],
   "source": [
    "loc_dict = dict(train['locality'].value_counts())"
   ]
  },
  {
   "cell_type": "code",
   "execution_count": 316,
   "metadata": {},
   "outputs": [],
   "source": [
    "first_fifty_cities = list(loc_dict.keys())[0:50]"
   ]
  },
  {
   "cell_type": "code",
   "execution_count": 317,
   "metadata": {},
   "outputs": [
    {
     "data": {
      "text/html": [
       "<div>\n",
       "<style scoped>\n",
       "    .dataframe tbody tr th:only-of-type {\n",
       "        vertical-align: middle;\n",
       "    }\n",
       "\n",
       "    .dataframe tbody tr th {\n",
       "        vertical-align: top;\n",
       "    }\n",
       "\n",
       "    .dataframe thead th {\n",
       "        text-align: right;\n",
       "    }\n",
       "</style>\n",
       "<table border=\"1\" class=\"dataframe\">\n",
       "  <thead>\n",
       "    <tr style=\"text-align: right;\">\n",
       "      <th></th>\n",
       "      <th>id</th>\n",
       "      <th>position</th>\n",
       "      <th>region</th>\n",
       "      <th>industry</th>\n",
       "      <th>locality</th>\n",
       "      <th>locality_name</th>\n",
       "      <th>education_type</th>\n",
       "      <th>drive_licences</th>\n",
       "      <th>citizenship</th>\n",
       "      <th>schedule</th>\n",
       "      <th>...</th>\n",
       "      <th>relocation_ready</th>\n",
       "      <th>travel_ready</th>\n",
       "      <th>retraining_ready</th>\n",
       "      <th>is_worldskills_participant</th>\n",
       "      <th>has_qualifications</th>\n",
       "      <th>completeness_rate</th>\n",
       "      <th>creation_date</th>\n",
       "      <th>modification_date</th>\n",
       "      <th>publish_date</th>\n",
       "      <th>salary</th>\n",
       "    </tr>\n",
       "  </thead>\n",
       "  <tbody>\n",
       "    <tr>\n",
       "      <th>0</th>\n",
       "      <td>0</td>\n",
       "      <td>Специалист</td>\n",
       "      <td>Тульская область</td>\n",
       "      <td>Государственная служба, некоммерческие организ...</td>\n",
       "      <td>7100000100000</td>\n",
       "      <td>Тула</td>\n",
       "      <td>Незаконченное высшее</td>\n",
       "      <td>[B]</td>\n",
       "      <td>Российская Федерация</td>\n",
       "      <td>Полный рабочий день</td>\n",
       "      <td>...</td>\n",
       "      <td>False</td>\n",
       "      <td>False</td>\n",
       "      <td>True</td>\n",
       "      <td>NaN</td>\n",
       "      <td>NaN</td>\n",
       "      <td>64.0</td>\n",
       "      <td>2020-05-07</td>\n",
       "      <td>2020-05-08</td>\n",
       "      <td>2020-05-07</td>\n",
       "      <td>37500</td>\n",
       "    </tr>\n",
       "    <tr>\n",
       "      <th>1</th>\n",
       "      <td>1</td>\n",
       "      <td>Лаборант</td>\n",
       "      <td>Алтайский край</td>\n",
       "      <td>Государственная служба, некоммерческие организ...</td>\n",
       "      <td>2200000100000</td>\n",
       "      <td>Барнаул</td>\n",
       "      <td>Высшее</td>\n",
       "      <td>[B]</td>\n",
       "      <td>Российская Федерация</td>\n",
       "      <td>Полный рабочий день</td>\n",
       "      <td>...</td>\n",
       "      <td>False</td>\n",
       "      <td>True</td>\n",
       "      <td>True</td>\n",
       "      <td>NaN</td>\n",
       "      <td>NaN</td>\n",
       "      <td>88.0</td>\n",
       "      <td>2020-10-21</td>\n",
       "      <td>2020-10-27</td>\n",
       "      <td>2020-10-27</td>\n",
       "      <td>14000</td>\n",
       "    </tr>\n",
       "    <tr>\n",
       "      <th>3</th>\n",
       "      <td>4</td>\n",
       "      <td>Специалист</td>\n",
       "      <td>Свердловская область</td>\n",
       "      <td>Государственная служба, некоммерческие организ...</td>\n",
       "      <td>6600002300000</td>\n",
       "      <td>Нижний Тагил</td>\n",
       "      <td>Высшее</td>\n",
       "      <td>[B]</td>\n",
       "      <td>Российская Федерация</td>\n",
       "      <td>Полный рабочий день</td>\n",
       "      <td>...</td>\n",
       "      <td>False</td>\n",
       "      <td>False</td>\n",
       "      <td>False</td>\n",
       "      <td>NaN</td>\n",
       "      <td>NaN</td>\n",
       "      <td>91.0</td>\n",
       "      <td>2020-09-19</td>\n",
       "      <td>2020-09-20</td>\n",
       "      <td>2020-09-19</td>\n",
       "      <td>16075</td>\n",
       "    </tr>\n",
       "    <tr>\n",
       "      <th>4</th>\n",
       "      <td>5</td>\n",
       "      <td>Инструктор по плаванию</td>\n",
       "      <td>Иркутская область</td>\n",
       "      <td>Здравоохранение, спорт, красота, социальное об...</td>\n",
       "      <td>3800000400000</td>\n",
       "      <td>Ангарск</td>\n",
       "      <td>NaN</td>\n",
       "      <td>NaN</td>\n",
       "      <td>Российская Федерация</td>\n",
       "      <td>Полный рабочий день</td>\n",
       "      <td>...</td>\n",
       "      <td>False</td>\n",
       "      <td>NaN</td>\n",
       "      <td>NaN</td>\n",
       "      <td>NaN</td>\n",
       "      <td>NaN</td>\n",
       "      <td>58.0</td>\n",
       "      <td>2020-04-20</td>\n",
       "      <td>2020-09-09</td>\n",
       "      <td>2020-04-21</td>\n",
       "      <td>22080</td>\n",
       "    </tr>\n",
       "    <tr>\n",
       "      <th>5</th>\n",
       "      <td>8</td>\n",
       "      <td>учитель технологии</td>\n",
       "      <td>Тюменская область</td>\n",
       "      <td>Образование, наука</td>\n",
       "      <td>7200000000000</td>\n",
       "      <td>Тюменская</td>\n",
       "      <td>NaN</td>\n",
       "      <td>NaN</td>\n",
       "      <td>Российская Федерация</td>\n",
       "      <td>Полный рабочий день</td>\n",
       "      <td>...</td>\n",
       "      <td>False</td>\n",
       "      <td>True</td>\n",
       "      <td>True</td>\n",
       "      <td>NaN</td>\n",
       "      <td>NaN</td>\n",
       "      <td>57.0</td>\n",
       "      <td>2019-08-09</td>\n",
       "      <td>2019-08-09</td>\n",
       "      <td>2019-08-09</td>\n",
       "      <td>31140</td>\n",
       "    </tr>\n",
       "    <tr>\n",
       "      <th>...</th>\n",
       "      <td>...</td>\n",
       "      <td>...</td>\n",
       "      <td>...</td>\n",
       "      <td>...</td>\n",
       "      <td>...</td>\n",
       "      <td>...</td>\n",
       "      <td>...</td>\n",
       "      <td>...</td>\n",
       "      <td>...</td>\n",
       "      <td>...</td>\n",
       "      <td>...</td>\n",
       "      <td>...</td>\n",
       "      <td>...</td>\n",
       "      <td>...</td>\n",
       "      <td>...</td>\n",
       "      <td>...</td>\n",
       "      <td>...</td>\n",
       "      <td>...</td>\n",
       "      <td>...</td>\n",
       "      <td>...</td>\n",
       "      <td>...</td>\n",
       "    </tr>\n",
       "    <tr>\n",
       "      <th>306258</th>\n",
       "      <td>437511</td>\n",
       "      <td>Юрисконсульт, юрист, участковый, секретарь, на...</td>\n",
       "      <td>г. Санкт-Петербург</td>\n",
       "      <td>Юриспруденция</td>\n",
       "      <td>7800000000000</td>\n",
       "      <td>Санкт-Петербург</td>\n",
       "      <td>Высшее</td>\n",
       "      <td>[B]</td>\n",
       "      <td>Российская Федерация</td>\n",
       "      <td>Полный рабочий день</td>\n",
       "      <td>...</td>\n",
       "      <td>False</td>\n",
       "      <td>False</td>\n",
       "      <td>True</td>\n",
       "      <td>NaN</td>\n",
       "      <td>NaN</td>\n",
       "      <td>83.0</td>\n",
       "      <td>2020-09-25</td>\n",
       "      <td>2020-09-30</td>\n",
       "      <td>2020-09-25</td>\n",
       "      <td>49680</td>\n",
       "    </tr>\n",
       "    <tr>\n",
       "      <th>306259</th>\n",
       "      <td>437512</td>\n",
       "      <td>Психолог</td>\n",
       "      <td>Краснодарский край</td>\n",
       "      <td>Образование, наука</td>\n",
       "      <td>2300000100000</td>\n",
       "      <td>Краснодар</td>\n",
       "      <td>Незаконченное высшее</td>\n",
       "      <td>NaN</td>\n",
       "      <td>Российская Федерация</td>\n",
       "      <td>Полный рабочий день</td>\n",
       "      <td>...</td>\n",
       "      <td>NaN</td>\n",
       "      <td>NaN</td>\n",
       "      <td>NaN</td>\n",
       "      <td>NaN</td>\n",
       "      <td>NaN</td>\n",
       "      <td>60.0</td>\n",
       "      <td>2020-09-11</td>\n",
       "      <td>2020-09-23</td>\n",
       "      <td>2020-09-19</td>\n",
       "      <td>15000</td>\n",
       "    </tr>\n",
       "    <tr>\n",
       "      <th>306260</th>\n",
       "      <td>437514</td>\n",
       "      <td>Техник, инженер младшей категории</td>\n",
       "      <td>Республика Татарстан</td>\n",
       "      <td>Информационные технологии, телекоммуникации, с...</td>\n",
       "      <td>1600000100000</td>\n",
       "      <td>Казань</td>\n",
       "      <td>Среднее профессиональное</td>\n",
       "      <td>NaN</td>\n",
       "      <td>Российская Федерация</td>\n",
       "      <td>Полный рабочий день</td>\n",
       "      <td>...</td>\n",
       "      <td>True</td>\n",
       "      <td>True</td>\n",
       "      <td>True</td>\n",
       "      <td>NaN</td>\n",
       "      <td>NaN</td>\n",
       "      <td>84.0</td>\n",
       "      <td>2016-12-17</td>\n",
       "      <td>2020-01-14</td>\n",
       "      <td>2018-03-01</td>\n",
       "      <td>86898</td>\n",
       "    </tr>\n",
       "    <tr>\n",
       "      <th>306261</th>\n",
       "      <td>437516</td>\n",
       "      <td>Управляющий</td>\n",
       "      <td>Тюменская область</td>\n",
       "      <td>Продажи, закупки, снабжение, торговля</td>\n",
       "      <td>7200000100000</td>\n",
       "      <td>Тюмень</td>\n",
       "      <td>NaN</td>\n",
       "      <td>[A, B]</td>\n",
       "      <td>Российская Федерация</td>\n",
       "      <td>Полный рабочий день</td>\n",
       "      <td>...</td>\n",
       "      <td>False</td>\n",
       "      <td>True</td>\n",
       "      <td>True</td>\n",
       "      <td>NaN</td>\n",
       "      <td>NaN</td>\n",
       "      <td>74.0</td>\n",
       "      <td>2020-04-14</td>\n",
       "      <td>2020-04-14</td>\n",
       "      <td>2020-04-14</td>\n",
       "      <td>32500</td>\n",
       "    </tr>\n",
       "    <tr>\n",
       "      <th>306264</th>\n",
       "      <td>437520</td>\n",
       "      <td>Продажа туров</td>\n",
       "      <td>Новосибирская область</td>\n",
       "      <td>Рабочие специальности</td>\n",
       "      <td>5400000000000</td>\n",
       "      <td>Новосибирская</td>\n",
       "      <td>NaN</td>\n",
       "      <td>NaN</td>\n",
       "      <td>Российская Федерация</td>\n",
       "      <td>Полный рабочий день</td>\n",
       "      <td>...</td>\n",
       "      <td>False</td>\n",
       "      <td>False</td>\n",
       "      <td>False</td>\n",
       "      <td>NaN</td>\n",
       "      <td>NaN</td>\n",
       "      <td>52.0</td>\n",
       "      <td>2020-04-22</td>\n",
       "      <td>2020-04-22</td>\n",
       "      <td>2020-04-22</td>\n",
       "      <td>19000</td>\n",
       "    </tr>\n",
       "  </tbody>\n",
       "</table>\n",
       "<p>126687 rows × 25 columns</p>\n",
       "</div>"
      ],
      "text/plain": [
       "            id                                           position  \\\n",
       "0            0                                         Специалист   \n",
       "1            1                                           Лаборант   \n",
       "3            4                                         Специалист   \n",
       "4            5                             Инструктор по плаванию   \n",
       "5            8                                 учитель технологии   \n",
       "...        ...                                                ...   \n",
       "306258  437511  Юрисконсульт, юрист, участковый, секретарь, на...   \n",
       "306259  437512                                           Психолог   \n",
       "306260  437514                  Техник, инженер младшей категории   \n",
       "306261  437516                                        Управляющий   \n",
       "306264  437520                                      Продажа туров   \n",
       "\n",
       "                       region  \\\n",
       "0            Тульская область   \n",
       "1              Алтайский край   \n",
       "3        Свердловская область   \n",
       "4           Иркутская область   \n",
       "5           Тюменская область   \n",
       "...                       ...   \n",
       "306258     г. Санкт-Петербург   \n",
       "306259     Краснодарский край   \n",
       "306260   Республика Татарстан   \n",
       "306261      Тюменская область   \n",
       "306264  Новосибирская область   \n",
       "\n",
       "                                                 industry       locality  \\\n",
       "0       Государственная служба, некоммерческие организ...  7100000100000   \n",
       "1       Государственная служба, некоммерческие организ...  2200000100000   \n",
       "3       Государственная служба, некоммерческие организ...  6600002300000   \n",
       "4       Здравоохранение, спорт, красота, социальное об...  3800000400000   \n",
       "5                                      Образование, наука  7200000000000   \n",
       "...                                                   ...            ...   \n",
       "306258                                      Юриспруденция  7800000000000   \n",
       "306259                                 Образование, наука  2300000100000   \n",
       "306260  Информационные технологии, телекоммуникации, с...  1600000100000   \n",
       "306261              Продажи, закупки, снабжение, торговля  7200000100000   \n",
       "306264                              Рабочие специальности  5400000000000   \n",
       "\n",
       "          locality_name            education_type drive_licences  \\\n",
       "0                  Тула      Незаконченное высшее            [B]   \n",
       "1               Барнаул                    Высшее            [B]   \n",
       "3          Нижний Тагил                    Высшее            [B]   \n",
       "4               Ангарск                       NaN            NaN   \n",
       "5             Тюменская                       NaN            NaN   \n",
       "...                 ...                       ...            ...   \n",
       "306258  Санкт-Петербург                    Высшее            [B]   \n",
       "306259        Краснодар      Незаконченное высшее            NaN   \n",
       "306260           Казань  Среднее профессиональное            NaN   \n",
       "306261           Тюмень                       NaN         [A, B]   \n",
       "306264    Новосибирская                       NaN            NaN   \n",
       "\n",
       "                 citizenship             schedule  ... relocation_ready  \\\n",
       "0       Российская Федерация  Полный рабочий день  ...            False   \n",
       "1       Российская Федерация  Полный рабочий день  ...            False   \n",
       "3       Российская Федерация  Полный рабочий день  ...            False   \n",
       "4       Российская Федерация  Полный рабочий день  ...            False   \n",
       "5       Российская Федерация  Полный рабочий день  ...            False   \n",
       "...                      ...                  ...  ...              ...   \n",
       "306258  Российская Федерация  Полный рабочий день  ...            False   \n",
       "306259  Российская Федерация  Полный рабочий день  ...              NaN   \n",
       "306260  Российская Федерация  Полный рабочий день  ...             True   \n",
       "306261  Российская Федерация  Полный рабочий день  ...            False   \n",
       "306264  Российская Федерация  Полный рабочий день  ...            False   \n",
       "\n",
       "        travel_ready retraining_ready  is_worldskills_participant  \\\n",
       "0              False             True                         NaN   \n",
       "1               True             True                         NaN   \n",
       "3              False            False                         NaN   \n",
       "4                NaN              NaN                         NaN   \n",
       "5               True             True                         NaN   \n",
       "...              ...              ...                         ...   \n",
       "306258         False             True                         NaN   \n",
       "306259           NaN              NaN                         NaN   \n",
       "306260          True             True                         NaN   \n",
       "306261          True             True                         NaN   \n",
       "306264         False            False                         NaN   \n",
       "\n",
       "        has_qualifications completeness_rate creation_date modification_date  \\\n",
       "0                      NaN              64.0    2020-05-07        2020-05-08   \n",
       "1                      NaN              88.0    2020-10-21        2020-10-27   \n",
       "3                      NaN              91.0    2020-09-19        2020-09-20   \n",
       "4                      NaN              58.0    2020-04-20        2020-09-09   \n",
       "5                      NaN              57.0    2019-08-09        2019-08-09   \n",
       "...                    ...               ...           ...               ...   \n",
       "306258                 NaN              83.0    2020-09-25        2020-09-30   \n",
       "306259                 NaN              60.0    2020-09-11        2020-09-23   \n",
       "306260                 NaN              84.0    2016-12-17        2020-01-14   \n",
       "306261                 NaN              74.0    2020-04-14        2020-04-14   \n",
       "306264                 NaN              52.0    2020-04-22        2020-04-22   \n",
       "\n",
       "       publish_date salary  \n",
       "0        2020-05-07  37500  \n",
       "1        2020-10-27  14000  \n",
       "3        2020-09-19  16075  \n",
       "4        2020-04-21  22080  \n",
       "5        2019-08-09  31140  \n",
       "...             ...    ...  \n",
       "306258   2020-09-25  49680  \n",
       "306259   2020-09-19  15000  \n",
       "306260   2018-03-01  86898  \n",
       "306261   2020-04-14  32500  \n",
       "306264   2020-04-22  19000  \n",
       "\n",
       "[126687 rows x 25 columns]"
      ]
     },
     "execution_count": 317,
     "metadata": {},
     "output_type": "execute_result"
    }
   ],
   "source": [
    "train[train['locality'].isin(first_fifty_cities)]"
   ]
  },
  {
   "cell_type": "code",
   "execution_count": 318,
   "metadata": {},
   "outputs": [
    {
     "data": {
      "image/png": "[encoded data removed]",
      "text/plain": [
       "<Figure size 720x720 with 1 Axes>"
      ]
     },
     "metadata": {
      "needs_background": "light"
     },
     "output_type": "display_data"
    }
   ],
   "source": [
    "import matplotlib.pyplot as plt\n",
    "\n",
    "mean_arr = []\n",
    "for city in first_fifty_cities:\n",
    "    mean_arr.append(train[train['locality'] == city]['salary'].mean())\n",
    "fig = plt.figure(figsize = (10, 10))\n",
    "ax = plt.plot([x for x in range(50)], mean_arr)\n",
    "plt.show()"
   ]
  },
  {
   "cell_type": "markdown",
   "metadata": {},
   "source": [
    "### Обработка ошибок и пропущенных значений"
   ]
  },
  {
   "cell_type": "code",
   "execution_count": 319,
   "metadata": {},
   "outputs": [
    {
     "name": "stdout",
     "output_type": "stream",
     "text": [
      "Index(['id', 'position', 'region', 'industry', 'locality', 'locality_name',\n",
      "       'education_type', 'drive_licences', 'citizenship', 'schedule',\n",
      "       'employement_type', 'age', 'gender', 'experience', 'salary_desired',\n",
      "       'relocation_ready', 'travel_ready', 'retraining_ready',\n",
      "       'is_worldskills_participant', 'has_qualifications', 'completeness_rate',\n",
      "       'creation_date', 'modification_date', 'publish_date', 'salary'],\n",
      "      dtype='object')\n"
     ]
    }
   ],
   "source": [
    "print(train.columns)"
   ]
  },
  {
   "cell_type": "markdown",
   "metadata": {},
   "source": [
    "### position - обработка через txt с профессиями\n",
    "### locality - заменить на столица региона/нет или на среднее по городу\n",
    "### locality_name не нужно"
   ]
  },
  {
   "cell_type": "code",
   "execution_count": 320,
   "metadata": {},
   "outputs": [],
   "source": [
    "city_region_dict = {} # словарь город - область, может понадобиться для заполнения пропусков в столбце region\n",
    "for i in range(len(train)):\n",
    "    if (not pd.isna(train.at[i, 'region'])):\n",
    "        if ((train.at[i, 'locality'] in city_region_dict) and (city_region_dict[train.at[i, 'locality']] != train.at[i, 'region'])):\n",
    "            print('Error')\n",
    "        else:\n",
    "            city_region_dict[train.at[i, 'locality']] = train.at[i, 'region']"
   ]
  },
  {
   "cell_type": "code",
   "execution_count": 321,
   "metadata": {},
   "outputs": [
    {
     "name": "stdout",
     "output_type": "stream",
     "text": [
      "Problem\n",
      "Problem\n",
      "Problem\n",
      "Problem\n",
      "Problem\n",
      "Problem\n",
      "Problem\n",
      "Problem\n",
      "Problem\n",
      "Problem\n",
      "Problem\n",
      "Problem\n"
     ]
    }
   ],
   "source": [
    "for i in range(len(train)):\n",
    "    if (pd.isna(train.at[i, 'region'])):\n",
    "        if (not train.at[i, 'locality'] in city_region_dict):\n",
    "            print('Problem')\n",
    "        else:\n",
    "            train.at[i, 'region'] = city_region_dict[train.at[i, 'locality']]"
   ]
  },
  {
   "cell_type": "markdown",
   "metadata": {},
   "source": [
    "### Это не помогло, возможно пригодится для test"
   ]
  },
  {
   "cell_type": "markdown",
   "metadata": {},
   "source": [
    "### 1. Убрать строки с region == NaN"
   ]
  },
  {
   "cell_type": "code",
   "execution_count": 322,
   "metadata": {},
   "outputs": [],
   "source": [
    "train = train.dropna(subset = ['region'])"
   ]
  },
  {
   "cell_type": "markdown",
   "metadata": {},
   "source": [
    "### 2. Посмотрим на education_type"
   ]
  },
  {
   "cell_type": "code",
   "execution_count": 323,
   "metadata": {},
   "outputs": [
    {
     "name": "stdout",
     "output_type": "stream",
     "text": [
      "Работников без указания образования: 40032\n"
     ]
    }
   ],
   "source": [
    "print('Работников без указания образования:', len(train[pd.isna(train['education_type'])]))"
   ]
  },
  {
   "cell_type": "code",
   "execution_count": 324,
   "metadata": {},
   "outputs": [
    {
     "data": {
      "image/png": "[encoded data removed]",
      "text/plain": [
       "<Figure size 720x720 with 1 Axes>"
      ]
     },
     "metadata": {
      "needs_background": "light"
     },
     "output_type": "display_data"
    }
   ],
   "source": [
    "fig = plt.figure(figsize = (10, 10))\n",
    "ax = plt.hist(train[pd.isna(train['education_type'])]['salary'])\n",
    "plt.show()"
   ]
  },
  {
   "cell_type": "code",
   "execution_count": 325,
   "metadata": {},
   "outputs": [
    {
     "data": {
      "text/plain": [
       "array(['Незаконченное высшее', 'Высшее', nan, 'Среднее профессиональное',\n",
       "       'Среднее'], dtype=object)"
      ]
     },
     "execution_count": 325,
     "metadata": {},
     "output_type": "execute_result"
    }
   ],
   "source": [
    "train['education_type'].unique()"
   ]
  },
  {
   "cell_type": "markdown",
   "metadata": {},
   "source": [
    "### Используем данные Росстат (октябрь 2019) средних зарплат в зависимости от образования для заполнения NaN в графе образование:"
   ]
  },
  {
   "cell_type": "code",
   "execution_count": 326,
   "metadata": {},
   "outputs": [
    {
     "name": "stdout",
     "output_type": "stream",
     "text": [
      "Средняя зарплата работников с незаконченным высшим: 41551.10823415889\n"
     ]
    }
   ],
   "source": [
    "rosstat_edu = {'Высшее': 57700,\n",
    "              'Среднее профессиональное': 36900,\n",
    "              'Среднее': 34800}\n",
    "#Данных о незаконченном высшем, к сожалению нет, поэтому придется считать среднюю зарплату по соответствующим работникам из train\n",
    "rosstat_edu['Незаконченное высшее'] = train[train['education_type'] == 'Незаконченное высшее']['salary'].mean()\n",
    "print('Средняя зарплата работников с незаконченным высшим:', rosstat_edu['Незаконченное высшее'])\n",
    "\n",
    "for i in train[pd.isna(train['education_type'])].index:\n",
    "    if (train.at[i, 'salary'] > rosstat_edu['Высшее']):\n",
    "        train.at[i, 'education_type'] = 'Высшее'\n",
    "    elif (train.at[i, 'salary'] > rosstat_edu['Незаконченное высшее']):\n",
    "        train.at[i, 'education_type'] = 'Незаконченное высшее'\n",
    "    elif (train.at[i, 'salary'] > rosstat_edu['Среднее профессиональное']):\n",
    "        train.at[i, 'education_type'] = 'Среднее профессиональное'\n",
    "    else:\n",
    "        train.at[i, 'education_type'] = 'Среднее'"
   ]
  },
  {
   "cell_type": "markdown",
   "metadata": {},
   "source": [
    "### 3. Уберем даты"
   ]
  },
  {
   "cell_type": "code",
   "execution_count": 327,
   "metadata": {},
   "outputs": [],
   "source": [
    "train = train.drop(['creation_date', 'modification_date', 'publish_date'], axis = 1)"
   ]
  },
  {
   "cell_type": "markdown",
   "metadata": {},
   "source": [
    "### 4. Completeness rate нужно привести к долям"
   ]
  },
  {
   "cell_type": "code",
   "execution_count": 328,
   "metadata": {},
   "outputs": [
    {
     "data": {
      "text/plain": [
       "count    306258.000000\n",
       "mean         69.068161\n",
       "std          17.125877\n",
       "min           0.000000\n",
       "25%          61.000000\n",
       "50%          71.000000\n",
       "75%          81.000000\n",
       "max         100.000000\n",
       "Name: completeness_rate, dtype: float64"
      ]
     },
     "execution_count": 328,
     "metadata": {},
     "output_type": "execute_result"
    }
   ],
   "source": [
    "train['completeness_rate'].describe()"
   ]
  },
  {
   "cell_type": "markdown",
   "metadata": {},
   "source": [
    "### Выбросов в completeness rate нет"
   ]
  },
  {
   "cell_type": "code",
   "execution_count": 329,
   "metadata": {},
   "outputs": [],
   "source": [
    "train['completeness_rate'] = train['completeness_rate'] / 100"
   ]
  },
  {
   "cell_type": "markdown",
   "metadata": {},
   "source": [
    "### 5. Переведем NaN значения в графе has_qualifications в отдельную категорию"
   ]
  },
  {
   "cell_type": "code",
   "execution_count": 330,
   "metadata": {},
   "outputs": [],
   "source": [
    "train['has_qualifications'].fillna('-', inplace = True)"
   ]
  },
  {
   "cell_type": "markdown",
   "metadata": {},
   "source": [
    "### 6. Experience"
   ]
  },
  {
   "cell_type": "code",
   "execution_count": 331,
   "metadata": {},
   "outputs": [
    {
     "name": "stdout",
     "output_type": "stream",
     "text": [
      "NaN значений в графе experience: 0\n"
     ]
    }
   ],
   "source": [
    "print('NaN значений в графе experience:', len(train[pd.isna(train['experience'])]))"
   ]
  },
  {
   "cell_type": "markdown",
   "metadata": {},
   "source": [
    "#### Посмотрим есть ли выбросы"
   ]
  },
  {
   "cell_type": "code",
   "execution_count": 332,
   "metadata": {
    "scrolled": true
   },
   "outputs": [
    {
     "data": {
      "text/plain": [
       "count    306258.000000\n",
       "mean          5.748144\n",
       "std           7.745297\n",
       "min           0.000000\n",
       "25%           0.000000\n",
       "50%           3.000000\n",
       "75%           9.000000\n",
       "max         937.000000\n",
       "Name: experience, dtype: float64"
      ]
     },
     "execution_count": 332,
     "metadata": {},
     "output_type": "execute_result"
    }
   ],
   "source": [
    "train['experience'].describe()"
   ]
  },
  {
   "cell_type": "markdown",
   "metadata": {},
   "source": [
    "#### Действительно, есть. Нужно их заменить.\n",
    "#### Если возраст указан, заменим опыт на медианный опыт для группы +- 2 года\n",
    "#### Если не указан, заменим на медианный опыт работы"
   ]
  },
  {
   "cell_type": "code",
   "execution_count": 333,
   "metadata": {
    "scrolled": true
   },
   "outputs": [],
   "source": [
    "median_experience = train['experience'].median()\n",
    "median_experience_groups = []\n",
    "for i in range(8):\n",
    "    median_experience_groups.append(train[(train['age'] - 18) // 5 == i]['experience'].median())\n",
    "median_experience_groups.append(train[(train['age'] - 18) // 5 >= 8]['experience'].median())\n",
    "\n",
    "for i in train[(pd.isna(train['experience'])) | (train['experience'] > 50)].index:\n",
    "    if (pd.isna(train.at[i, 'age']) or train.at[i, 'age'] >= 100 or train.at[i, 'age'] < 18):\n",
    "        train.at[i, 'experience'] = median_experience\n",
    "    else:\n",
    "        if (train.at[i, 'age'] >= 58 and train.at[i, 'age'] < 100):\n",
    "            train.at[i, 'experience'] = median_experience_groups[8]\n",
    "        elif (train.at[i, 'age'] >= 18):\n",
    "            train.at[i, 'experience'] = median_experience_groups[int((train.at[i, 'age'] - 18) // 5)]"
   ]
  },
  {
   "cell_type": "markdown",
   "metadata": {},
   "source": [
    "### 7. age"
   ]
  },
  {
   "cell_type": "code",
   "execution_count": 334,
   "metadata": {},
   "outputs": [
    {
     "name": "stdout",
     "output_type": "stream",
     "text": [
      "NaN значений в графе возраст: 7809\n"
     ]
    }
   ],
   "source": [
    "print('NaN значений в графе возраст:', len(train[pd.isna(train['age'])]))"
   ]
  },
  {
   "cell_type": "markdown",
   "metadata": {},
   "source": [
    "#### Заменим NaN значения в возрасте на средний возраст по опыту работы, выбросы заменим на медианный возраст"
   ]
  },
  {
   "cell_type": "code",
   "execution_count": 335,
   "metadata": {},
   "outputs": [],
   "source": [
    "median_age = train['age'].median()\n",
    "# группы по опыту работы: 0 лет,(0-2]лет, 2-5лет,5-10лет, 10-15лет, 15-20лет, 20-25лет, 25-35лет, больше \n",
    "median_group1 = train[train['experience'] == 0]['age'].median()\n",
    "median_group2 = train[(train['experience'] > 0) & (train['experience'] <= 2)]['age'].median()\n",
    "median_group3 = train[(train['experience'] > 2) & (train['experience'] <= 5)]['age'].median()\n",
    "median_group4 = train[(train['experience'] > 5) & (train['experience'] <= 10)]['age'].median()\n",
    "median_group5 = train[(train['experience'] > 10) & (train['experience'] <= 15)]['age'].median()\n",
    "median_group6 = train[(train['experience'] > 15) & (train['experience'] <= 20)]['age'].median()\n",
    "median_group7 = train[(train['experience'] > 20) & (train['experience'] <= 25)]['age'].median()\n",
    "median_group8 = train[(train['experience'] > 25) & (train['experience'] <= 35)]['age'].median()\n",
    "median_group9 = train[train['experience'] > 35]['age'].median()\n",
    "\n",
    "for i in train[(pd.isna(train['age'])) | (train['age'] < 18) | (train['age'] > 85)].index:\n",
    "    if (train.at[i,'experience'] == 0):\n",
    "        train.at[i, 'age'] = median_group1\n",
    "    if ((train.at[i, 'experience'] > 0)|(train.at[i, 'experience'] <= 2)):\n",
    "        train.at[i, 'age'] = median_group2\n",
    "    if ((train.at[i, 'experience'] > 2)|(train.at[i, 'experience'] <= 5)):\n",
    "        train.at[i, 'age'] = median_group3\n",
    "    if ((train.at[i, 'experience'] > 5)|(train.at[i, 'experience'] <= 10)):\n",
    "        train.at[i, 'age'] = median_group4\n",
    "    if ((train.at[i, 'experience'] > 10)|(train.at[i, 'experience'] <= 15)):\n",
    "        train.at[i, 'age'] = median_group5\n",
    "    if ((train.at[i, 'experience'] > 15)|(train.at[i, 'experience'] <= 20)):\n",
    "        train.at[i, 'age'] = median_group6\n",
    "    if ((train.at[i, 'experience'] > 20)|(train.at[i, 'experience'] <= 25)):\n",
    "        train.at[i, 'age'] = median_group7\n",
    "    if ((train.at[i, 'experience'] > 25)|(train.at[i, 'experience'] <= 35)):\n",
    "        train.at[i, 'age'] = median_group8\n",
    "    if (train.at[i, 'experience'] > 35):\n",
    "        train.at[i, 'age'] = median_group9"
   ]
  },
  {
   "cell_type": "markdown",
   "metadata": {},
   "source": [
    "### 8. drive licences"
   ]
  },
  {
   "cell_type": "markdown",
   "metadata": {},
   "source": [
    "#### Представим этот признак в виде 5 признаков"
   ]
  },
  {
   "cell_type": "code",
   "execution_count": 336,
   "metadata": {},
   "outputs": [],
   "source": [
    "train['drive_licence_A'] = 0\n",
    "train['drive_licence_B'] = 0\n",
    "train['drive_licence_C'] = 0\n",
    "train['drive_licence_D'] = 0\n",
    "train['drive_licence_E'] = 0\n",
    "\n",
    "for i in train[pd.isna(train['drive_licences']) == False].index:\n",
    "    for licence in train.at[i, 'drive_licences'][1:-1].split(', '):\n",
    "        train.at[i, 'drive_licence_' + licence] = 1"
   ]
  },
  {
   "cell_type": "code",
   "execution_count": 337,
   "metadata": {},
   "outputs": [],
   "source": [
    "train = train.drop(['drive_licences'], axis = 1)"
   ]
  },
  {
   "cell_type": "markdown",
   "metadata": {},
   "source": [
    "### 9. wordskills"
   ]
  },
  {
   "cell_type": "markdown",
   "metadata": {},
   "source": [
    "#### Заменим NaN на '-'"
   ]
  },
  {
   "cell_type": "code",
   "execution_count": 338,
   "metadata": {},
   "outputs": [],
   "source": [
    "train['is_worldskills_participant'].fillna('-', inplace = True)"
   ]
  },
  {
   "cell_type": "markdown",
   "metadata": {},
   "source": [
    "### 10. relocation, travel, retraining"
   ]
  },
  {
   "cell_type": "markdown",
   "metadata": {},
   "source": [
    "#### Заменим NaN на несогласие"
   ]
  },
  {
   "cell_type": "code",
   "execution_count": 339,
   "metadata": {},
   "outputs": [],
   "source": [
    "train['relocation_ready'].fillna(False, inplace = True)\n",
    "train['travel_ready'].fillna(False, inplace = True)\n",
    "train['retraining_ready'].fillna(False, inplace = True)\n",
    "\n",
    "train['relocation_ready'] = train['relocation_ready'].astype(int)\n",
    "train['travel_ready'] = train['travel_ready'].astype(int)\n",
    "train['retraining_ready'] = train['retraining_ready'].astype(int)"
   ]
  },
  {
   "cell_type": "markdown",
   "metadata": {},
   "source": [
    "### 11. gender"
   ]
  },
  {
   "cell_type": "markdown",
   "metadata": {},
   "source": [
    "#### заменим NaN на наиболее вероятный класс"
   ]
  },
  {
   "cell_type": "code",
   "execution_count": 340,
   "metadata": {},
   "outputs": [],
   "source": [
    "nan_class = list(dict(train['gender'].value_counts()).keys())[0]\n",
    "train['gender'].fillna(nan_class, inplace = True)"
   ]
  },
  {
   "cell_type": "markdown",
   "metadata": {},
   "source": [
    "### 12. Поделим возраст на группы в зависимости от средней заработной платы"
   ]
  },
  {
   "cell_type": "code",
   "execution_count": 341,
   "metadata": {},
   "outputs": [
    {
     "data": {
      "image/png": "[encoded data removed]",
      "text/plain": [
       "<Figure size 720x720 with 1 Axes>"
      ]
     },
     "metadata": {
      "needs_background": "light"
     },
     "output_type": "display_data"
    }
   ],
   "source": [
    "ages = sorted(train['age'].unique())\n",
    "salaries = [train[train['age'] == x]['salary'].median() for x in ages]\n",
    "\n",
    "fig = plt.figure(figsize = (10, 10))\n",
    "ax = plt.plot(ages, salaries)\n",
    "plt.show()"
   ]
  },
  {
   "cell_type": "code",
   "execution_count": 342,
   "metadata": {
    "scrolled": true
   },
   "outputs": [
    {
     "data": {
      "image/png": "[encoded data removed]",
      "text/plain": [
       "<Figure size 720x720 with 1 Axes>"
      ]
     },
     "metadata": {
      "needs_background": "light"
     },
     "output_type": "display_data"
    }
   ],
   "source": [
    "fig = plt.figure(figsize = (10, 10))\n",
    "ax = plt.hist(train['age'])\n",
    "plt.show()"
   ]
  },
  {
   "cell_type": "code",
   "execution_count": 343,
   "metadata": {
    "scrolled": true
   },
   "outputs": [
    {
     "name": "stdout",
     "output_type": "stream",
     "text": [
      "2    91654\n",
      "4    65504\n",
      "1    49200\n",
      "5    46170\n",
      "3    43169\n",
      "6    10561\n",
      "Name: age_group, dtype: int64\n"
     ]
    }
   ],
   "source": [
    "# группы: <26, 26-34, 34-38, 38-47, 47-55, >55 лет\n",
    "def group_ages(df):\n",
    "    df['age_group'] = 0\n",
    "    df.loc[df['age'] < 26, 'age_group'] = 1\n",
    "    df.loc[(df['age'] >= 26) & (df['age'] < 34), 'age_group'] = 2\n",
    "    df.loc[(df['age'] >= 34) & (df['age'] < 38), 'age_group'] = 3\n",
    "    df.loc[(df['age'] >= 38) & (df['age'] < 47), 'age_group'] = 4\n",
    "    df.loc[(df['age'] >= 47) & (df['age'] <= 55), 'age_group'] = 5\n",
    "    df.loc[df['age'] > 55,'age_group'] = 6\n",
    "    df = df.drop(['age'], axis = 1)\n",
    "    print(df['age_group'].value_counts())\n",
    "    return df\n",
    "\n",
    "train = group_ages(train)"
   ]
  },
  {
   "cell_type": "markdown",
   "metadata": {},
   "source": [
    "### 13. Поделим гражданство на более крупные группы"
   ]
  },
  {
   "cell_type": "code",
   "execution_count": 344,
   "metadata": {},
   "outputs": [],
   "source": [
    "train.loc[(train['citizenship'] != 'Российская Федерация') \n",
    "          & (train['citizenship'] != 'Украина') & (train['citizenship'] != 'Республика Казахстан')\n",
    "          & (train['citizenship'] != 'Республика Беларусь'), 'citizenship'] = 'Иное'"
   ]
  },
  {
   "cell_type": "markdown",
   "metadata": {},
   "source": [
    "### 14. Поделим опыт работы на группы"
   ]
  },
  {
   "cell_type": "code",
   "execution_count": 345,
   "metadata": {},
   "outputs": [
    {
     "data": {
      "image/png": "[encoded data removed]",
      "text/plain": [
       "<Figure size 720x720 with 1 Axes>"
      ]
     },
     "metadata": {
      "needs_background": "light"
     },
     "output_type": "display_data"
    }
   ],
   "source": [
    "years = sorted(train['experience'].unique())\n",
    "salaries = [train[train['experience'] == x]['salary'].median() for x in years]\n",
    "\n",
    "fig = plt.figure(figsize = (10, 10))\n",
    "ax = plt.plot(years, salaries)\n",
    "plt.show()"
   ]
  },
  {
   "cell_type": "code",
   "execution_count": 346,
   "metadata": {},
   "outputs": [],
   "source": [
    "#группы: 0, (0-2], (2 - 5], (5-10],(10, 15],(15, 20],(20,30], >30 \n",
    "\n",
    "train['experience_group'] = 0\n",
    "train.loc[train['experience'] == 0, 'experience_group'] = 1\n",
    "train.loc[(train['experience'] > 0) & (train['experience'] <= 2), 'experience_group'] = 2\n",
    "train.loc[(train['experience'] > 2) & (train['experience'] <= 5), 'experience_group'] = 3\n",
    "train.loc[(train['experience'] > 5) & (train['experience'] <= 10), 'experience_group'] = 4\n",
    "train.loc[(train['experience'] > 10) & (train['experience'] <= 15), 'experience_group'] = 5\n",
    "train.loc[(train['experience'] > 15) & (train['experience'] <= 20), 'experience_group'] = 6\n",
    "train.loc[(train['experience'] > 20) & (train['experience'] <= 30), 'experience_group'] = 7\n",
    "train.loc[train['experience'] > 30, 'experience_group'] = 8\n",
    "train = train.drop(['experience'], axis = 1)"
   ]
  },
  {
   "cell_type": "code",
   "execution_count": 347,
   "metadata": {},
   "outputs": [],
   "source": [
    "train['position'] = train['position'].str.lower()"
   ]
  },
  {
   "cell_type": "markdown",
   "metadata": {},
   "source": [
    "### Используем данные о зарплате в регионах"
   ]
  },
  {
   "cell_type": "code",
   "execution_count": 348,
   "metadata": {
    "scrolled": true
   },
   "outputs": [],
   "source": [
    "import json\n",
    "\n",
    "with open('regions.json', encoding='raw_unicode_escape') as f:\n",
    "    d = json.loads(f.read().encode('raw_unicode_escape').decode())\n",
    "for key in d:\n",
    "    d[key] = int(d[key])"
   ]
  },
  {
   "cell_type": "code",
   "execution_count": 349,
   "metadata": {},
   "outputs": [],
   "source": [
    "train = train.replace({'region':d})"
   ]
  },
  {
   "cell_type": "markdown",
   "metadata": {},
   "source": [
    "### Исправим выбросы в salary_desired"
   ]
  },
  {
   "cell_type": "code",
   "execution_count": 350,
   "metadata": {},
   "outputs": [],
   "source": [
    "for i in train[(train['salary_desired'] <= 10000) | (train['salary_desired'] > 200000)].index:\n",
    "    train.at[i,'salary_desired'] = train.at[i, 'region']"
   ]
  },
  {
   "cell_type": "code",
   "execution_count": 351,
   "metadata": {},
   "outputs": [
    {
     "data": {
      "text/plain": [
       "count    306258.000000\n",
       "mean      34051.838584\n",
       "std       19215.510109\n",
       "min       10005.000000\n",
       "25%       20760.000000\n",
       "50%       30000.000000\n",
       "75%       40000.000000\n",
       "max      200000.000000\n",
       "Name: salary_desired, dtype: float64"
      ]
     },
     "execution_count": 351,
     "metadata": {},
     "output_type": "execute_result"
    }
   ],
   "source": [
    "train['salary_desired'].describe()"
   ]
  },
  {
   "cell_type": "code",
   "execution_count": 352,
   "metadata": {},
   "outputs": [],
   "source": [
    "train.reset_index(inplace = True)"
   ]
  },
  {
   "cell_type": "code",
   "execution_count": 353,
   "metadata": {},
   "outputs": [],
   "source": [
    "city_dict = {}\n",
    "for i in range(len(train)):\n",
    "    if (pd.isna(train.at[i, 'locality_name'])):\n",
    "        continue\n",
    "    if (train.at[i, 'locality'] not in city_dict):\n",
    "        city_dict[train.at[i,'locality']] = train.at[i,'locality_name']\n",
    "        continue\n",
    "    if ((train.at[i, 'locality'] in city_dict) & (train.at[i, 'locality_name'] != city_dict[train.at[i, 'locality']])):\n",
    "        print(train.at[i, 'locality_name'], city_dict[train.at[i, 'locality']])"
   ]
  },
  {
   "cell_type": "code",
   "execution_count": null,
   "metadata": {},
   "outputs": [],
   "source": []
  },
  {
   "cell_type": "code",
   "execution_count": 53,
   "metadata": {},
   "outputs": [
    {
     "data": {
      "image/png": "[encoded data removed]",
      "text/plain": [
       "<Figure size 720x720 with 1 Axes>"
      ]
     },
     "metadata": {
      "needs_background": "light"
     },
     "output_type": "display_data"
    }
   ],
   "source": [
    "\n",
    "regions_arr = train['region'].unique()\n",
    "regions_means = []\n",
    "for region in regions_arr:\n",
    "    regions_means.append(train[train['region'] == region]['salary'].mean())\n",
    "\n",
    "fig = plt.figure(figsize = (10, 10))\n",
    "ax = plt.plot([x for x in range(len(regions_arr))], sorted(regions_means))\n",
    "plt.show()"
   ]
  },
  {
   "cell_type": "code",
   "execution_count": 51,
   "metadata": {},
   "outputs": [
    {
     "data": {
      "text/plain": [
       "array(['[B]', nan, '[B, C]', '[B, C, E]', '[A, B, C]', '[C]', '[A, B]',\n",
       "       '[B, C, D]', '[A, B, C, D]', '[B, C, D, E]', '[A, B, C, D, E]',\n",
       "       '[A, B, C, E]', '[B, D]', '[A]', '[D]', '[C, D]', '[A, B, E]',\n",
       "       '[B, E]', '[D, E]', '[C, E]', '[A, C, D]', '[A, B, D]', '[E]',\n",
       "       '[C, D, E]', '[A, C]', '[B, D, E]', '[A, D, E]', '[A, D]',\n",
       "       '[A, C, E]', '[A, B, D, E]'], dtype=object)"
      ]
     },
     "execution_count": 51,
     "metadata": {},
     "output_type": "execute_result"
    }
   ],
   "source": [
    "train['drive_licences'].unique()"
   ]
  },
  {
   "cell_type": "code",
   "execution_count": 54,
   "metadata": {},
   "outputs": [
    {
     "data": {
      "text/plain": [
       "array([  21.,   26.,   36.,   34.,   25.,   49.,   nan,   28.,   32.,\n",
       "         23.,   38.,   41.,   53.,   27.,   37.,   31.,   33.,   54.,\n",
       "         44.,   55.,   57.,   42.,   40.,   29.,   30.,   60.,   45.,\n",
       "         39.,   19.,   22.,   56.,   58.,   52.,   35.,   46.,   24.,\n",
       "         43.,   59.,   16.,   18.,   50.,   51.,   47.,   20.,   48.,\n",
       "         70.,   61.,   17.,   68.,   63.,   66.,   72.,   15.,   64.,\n",
       "         62.,   67.,   65.,   69.,   79.,   73.,   71.,    5.,    7.,\n",
       "          4.,   75.,  132.,   77.,  119.,   74.,   14.,   76., 1933.,\n",
       "       1928.,    2., 1926., 1936.,    8., 1924.,    3.,   82.])"
      ]
     },
     "execution_count": 54,
     "metadata": {},
     "output_type": "execute_result"
    }
   ],
   "source": [
    "train['age'].unique()"
   ]
  },
  {
   "cell_type": "markdown",
   "metadata": {},
   "source": [
    "### убрать строки с странным возрастом и без региона"
   ]
  },
  {
   "cell_type": "markdown",
   "metadata": {},
   "source": [
    "### position?"
   ]
  },
  {
   "cell_type": "markdown",
   "metadata": {},
   "source": [
    "### город - столица региона/нет"
   ]
  },
  {
   "cell_type": "code",
   "execution_count": null,
   "metadata": {},
   "outputs": [],
   "source": [
    "train['']"
   ]
  }
 ],
 "metadata": {
  "kernelspec": {
   "display_name": "Python 3",
   "language": "python",
   "name": "python3"
  },
  "language_info": {
   "codemirror_mode": {
    "name": "ipython",
    "version": 3
   },
   "file_extension": ".py",
   "mimetype": "text/x-python",
   "name": "python",
   "nbconvert_exporter": "python",
   "pygments_lexer": "ipython3",
   "version": "3.7.3"
  }
 },
 "nbformat": 4,
 "nbformat_minor": 2
}
